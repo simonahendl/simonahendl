{
 "cells": [
  {
   "cell_type": "code",
   "execution_count": 27,
   "metadata": {},
   "outputs": [],
   "source": [
    "import base64\n",
    "import random"
   ]
  },
  {
   "cell_type": "code",
   "execution_count": 20,
   "metadata": {},
   "outputs": [],
   "source": [
    "def part1(num):\n",
    "    number = input(\"Enter a number:\")\n",
    "    for num in number:\n",
    "        if float(num) % 2 == 0:\n",
    "            print(\"The number is even\")\n",
    "        else:\n",
    "            print(\"The number is odd\")"
   ]
  },
  {
   "cell_type": "code",
   "execution_count": 22,
   "metadata": {},
   "outputs": [],
   "source": [
    "def part2():\n",
    "    rand_number = random.randint(1,9)\n",
    "    guess = 0 \n",
    "\n",
    "    while guess != rand_number and guess != \"exit\":\n",
    "        guess = input(\"Please guess a number: \")\n",
    "    \n",
    "        if guess == \"exit\":\n",
    "            break \n",
    "        if int(guess) < rand_number:\n",
    "            print(\"Too low.\")\n",
    "        elif int(guess) > rand_number: \n",
    "            print(\"Too high.\")\n",
    "        else:\n",
    "            print(\"Correct guess!\")"
   ]
  },
  {
   "cell_type": "code",
   "execution_count": 25,
   "metadata": {},
   "outputs": [],
   "source": [
    "def part3(string):\n",
    "    word = input(\"Please type in a word: \")\n",
    "    if word [::-1] == word[0:]:\n",
    "        print(word, \"is a palindrome\")\n",
    "    else:\n",
    "        print(word, \"is not a palindrome.\")"
   ]
  },
  {
   "cell_type": "code",
   "execution_count": 14,
   "metadata": {},
   "outputs": [],
   "source": [
    "def part4a(filename, username, password):\n",
    "    f = open(filename, \"a\")\n",
    "    f.write(base64.b64encode(username))\n",
    "    f.write(base64.b64encode(password))\n",
    "    f.close()\n"
   ]
  },
  {
   "cell_type": "code",
   "execution_count": 28,
   "metadata": {},
   "outputs": [],
   "source": [
    "def part4b(filename, password=None):\n",
    "    f = open(filename)\n",
    "    contents = f.read()\n",
    "    f.close()\n",
    "    username = base64.b64decode(contents[0])\n",
    "    password1 = base64.b64decode(contents[1])\n",
    "    print(username)\n",
    "    print(password1)\n",
    "    if password != password1:\n",
    "        with open(filename,\"r+\") as f:\n",
    "            f.truncate(0)\n",
    "            f.write(base64.b64encode(username))\n",
    "            f.write(base64.b64encode(password))\n",
    "    \n",
    "        \n",
    "    "
   ]
  },
  {
   "cell_type": "code",
   "execution_count": null,
   "metadata": {},
   "outputs": [],
   "source": []
  }
 ],
 "metadata": {
  "kernelspec": {
   "display_name": "Python 3",
   "language": "python",
   "name": "python3"
  },
  "language_info": {
   "codemirror_mode": {
    "name": "ipython",
    "version": 3
   },
   "file_extension": ".py",
   "mimetype": "text/x-python",
   "name": "python",
   "nbconvert_exporter": "python",
   "pygments_lexer": "ipython3",
   "version": "3.7.4"
  }
 },
 "nbformat": 4,
 "nbformat_minor": 2
}
