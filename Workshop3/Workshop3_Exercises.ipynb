{
 "cells": [
  {
   "cell_type": "code",
   "execution_count": 66,
   "metadata": {},
   "outputs": [],
   "source": [
    "import numpy as np \n",
    "import pandas as pd\n",
    "import matplotlib.pyplot as plt\n",
    "from scipy import stats\n",
    "h_data = pd.read_csv(\"./h_data.csv\")"
   ]
  },
  {
   "cell_type": "code",
   "execution_count": 67,
   "metadata": {},
   "outputs": [
    {
     "data": {
      "text/plain": [
       "['ID',\n",
       " 'AdmissionLengthDays',\n",
       " 'Death_1',\n",
       " 'Admission_Type',\n",
       " 'Insurance_Type',\n",
       " 'EnglishLanguage_1',\n",
       " 'Religion_Type',\n",
       " 'Married_1',\n",
       " 'Race',\n",
       " 'Dx']"
      ]
     },
     "execution_count": 67,
     "metadata": {},
     "output_type": "execute_result"
    }
   ],
   "source": [
    "list(h_data)"
   ]
  },
  {
   "cell_type": "code",
   "execution_count": 68,
   "metadata": {},
   "outputs": [
    {
     "data": {
      "text/plain": [
       "object     5\n",
       "int64      4\n",
       "float64    1\n",
       "dtype: int64"
      ]
     },
     "execution_count": 68,
     "metadata": {},
     "output_type": "execute_result"
    }
   ],
   "source": [
    "h_data.dtypes.value_counts()"
   ]
  },
  {
   "cell_type": "code",
   "execution_count": 69,
   "metadata": {},
   "outputs": [
    {
     "data": {
      "text/html": [
       "<div>\n",
       "<style scoped>\n",
       "    .dataframe tbody tr th:only-of-type {\n",
       "        vertical-align: middle;\n",
       "    }\n",
       "\n",
       "    .dataframe tbody tr th {\n",
       "        vertical-align: top;\n",
       "    }\n",
       "\n",
       "    .dataframe thead th {\n",
       "        text-align: right;\n",
       "    }\n",
       "</style>\n",
       "<table border=\"1\" class=\"dataframe\">\n",
       "  <thead>\n",
       "    <tr style=\"text-align: right;\">\n",
       "      <th></th>\n",
       "      <th>Admission_Type</th>\n",
       "      <th>Insurance_Type</th>\n",
       "      <th>Religion_Type</th>\n",
       "      <th>Race</th>\n",
       "      <th>Dx</th>\n",
       "    </tr>\n",
       "  </thead>\n",
       "  <tbody>\n",
       "    <tr>\n",
       "      <td>0</td>\n",
       "      <td>elective</td>\n",
       "      <td>private</td>\n",
       "      <td>episcopalian</td>\n",
       "      <td>white</td>\n",
       "      <td>mitral stenosis\\mitral valve replacement /sda</td>\n",
       "    </tr>\n",
       "    <tr>\n",
       "      <td>1</td>\n",
       "      <td>elective</td>\n",
       "      <td>private</td>\n",
       "      <td>catholic</td>\n",
       "      <td>white</td>\n",
       "      <td>duodenal mass/sda</td>\n",
       "    </tr>\n",
       "    <tr>\n",
       "      <td>2</td>\n",
       "      <td>emergency</td>\n",
       "      <td>medicare</td>\n",
       "      <td>catholic</td>\n",
       "      <td>asian - japanese</td>\n",
       "      <td>? serotonin syndrome</td>\n",
       "    </tr>\n",
       "    <tr>\n",
       "      <td>3</td>\n",
       "      <td>elective</td>\n",
       "      <td>medicare</td>\n",
       "      <td>catholic</td>\n",
       "      <td>white</td>\n",
       "      <td>abdominal aortic aneurysm/sda</td>\n",
       "    </tr>\n",
       "    <tr>\n",
       "      <td>4</td>\n",
       "      <td>elective</td>\n",
       "      <td>government</td>\n",
       "      <td>protestant quaker</td>\n",
       "      <td>black/african american</td>\n",
       "      <td>absence/sda</td>\n",
       "    </tr>\n",
       "    <tr>\n",
       "      <td>...</td>\n",
       "      <td>...</td>\n",
       "      <td>...</td>\n",
       "      <td>...</td>\n",
       "      <td>...</td>\n",
       "      <td>...</td>\n",
       "    </tr>\n",
       "    <tr>\n",
       "      <td>58858</td>\n",
       "      <td>elective</td>\n",
       "      <td>medicare</td>\n",
       "      <td>catholic</td>\n",
       "      <td>white</td>\n",
       "      <td>zenker's diverticulum/sda</td>\n",
       "    </tr>\n",
       "    <tr>\n",
       "      <td>58859</td>\n",
       "      <td>elective</td>\n",
       "      <td>medicare</td>\n",
       "      <td>catholic</td>\n",
       "      <td>white</td>\n",
       "      <td>zenker's diverticulum/sda</td>\n",
       "    </tr>\n",
       "    <tr>\n",
       "      <td>58860</td>\n",
       "      <td>emergency</td>\n",
       "      <td>private</td>\n",
       "      <td>unobtainable</td>\n",
       "      <td>white</td>\n",
       "      <td>zone 2 neck injury</td>\n",
       "    </tr>\n",
       "    <tr>\n",
       "      <td>58861</td>\n",
       "      <td>emergency</td>\n",
       "      <td>medicare</td>\n",
       "      <td>not specified</td>\n",
       "      <td>black/african american</td>\n",
       "      <td>zoster vs. meningitis</td>\n",
       "    </tr>\n",
       "    <tr>\n",
       "      <td>58862</td>\n",
       "      <td>emergency</td>\n",
       "      <td>private</td>\n",
       "      <td>unobtainable</td>\n",
       "      <td>white</td>\n",
       "      <td>zygomatic fracture left</td>\n",
       "    </tr>\n",
       "  </tbody>\n",
       "</table>\n",
       "<p>58863 rows × 5 columns</p>\n",
       "</div>"
      ],
      "text/plain": [
       "      Admission_Type Insurance_Type      Religion_Type  \\\n",
       "0           elective        private       episcopalian   \n",
       "1           elective        private           catholic   \n",
       "2          emergency       medicare           catholic   \n",
       "3           elective       medicare           catholic   \n",
       "4           elective     government  protestant quaker   \n",
       "...              ...            ...                ...   \n",
       "58858       elective       medicare           catholic   \n",
       "58859       elective       medicare           catholic   \n",
       "58860      emergency        private       unobtainable   \n",
       "58861      emergency       medicare      not specified   \n",
       "58862      emergency        private       unobtainable   \n",
       "\n",
       "                         Race                                               Dx  \n",
       "0                       white    mitral stenosis\\mitral valve replacement /sda  \n",
       "1                       white                                duodenal mass/sda  \n",
       "2            asian - japanese                             ? serotonin syndrome  \n",
       "3                       white                    abdominal aortic aneurysm/sda  \n",
       "4      black/african american                                      absence/sda  \n",
       "...                       ...                                              ...  \n",
       "58858                   white                        zenker's diverticulum/sda  \n",
       "58859                   white                        zenker's diverticulum/sda  \n",
       "58860                   white                               zone 2 neck injury  \n",
       "58861  black/african american                            zoster vs. meningitis  \n",
       "58862                   white                          zygomatic fracture left  \n",
       "\n",
       "[58863 rows x 5 columns]"
      ]
     },
     "execution_count": 69,
     "metadata": {},
     "output_type": "execute_result"
    }
   ],
   "source": [
    "h_data.select_dtypes(include='object')"
   ]
  },
  {
   "cell_type": "code",
   "execution_count": 70,
   "metadata": {},
   "outputs": [
    {
     "data": {
      "text/plain": [
       "array(['private', 'medicare', 'government', 'medicaid', 'self pay'],\n",
       "      dtype=object)"
      ]
     },
     "execution_count": 70,
     "metadata": {},
     "output_type": "execute_result"
    }
   ],
   "source": [
    "h_data[\"Insurance_Type\"].unique()\n"
   ]
  },
  {
   "cell_type": "code",
   "execution_count": 71,
   "metadata": {},
   "outputs": [
    {
     "data": {
      "text/plain": [
       "count    58863.000000\n",
       "mean        10.138978\n",
       "std         12.465611\n",
       "min         -0.945139\n",
       "25%          3.743056\n",
       "50%          6.465972\n",
       "75%         11.798264\n",
       "max        294.660417\n",
       "Name: AdmissionLengthDays, dtype: float64"
      ]
     },
     "execution_count": 71,
     "metadata": {},
     "output_type": "execute_result"
    }
   ],
   "source": [
    "h_data[\"AdmissionLengthDays\"].describe()"
   ]
  },
  {
   "cell_type": "code",
   "execution_count": 72,
   "metadata": {},
   "outputs": [
    {
     "name": "stdout",
     "output_type": "stream",
     "text": [
      "0    emergency\n",
      "dtype: object\n",
      "0    medicare\n",
      "dtype: object\n",
      "0    catholic\n",
      "dtype: object\n",
      "0    white\n",
      "dtype: object\n",
      "0    newborn\n",
      "dtype: object\n"
     ]
    }
   ],
   "source": [
    "print(h_data[\"Admission_Type\"].mode())\n",
    "print(h_data[\"Insurance_Type\"].mode())\n",
    "print(h_data[\"Religion_Type\"].mode())\n",
    "print(h_data[\"Race\"].mode())\n",
    "print(h_data[\"Dx\"].mode())\n"
   ]
  },
  {
   "cell_type": "code",
   "execution_count": 76,
   "metadata": {},
   "outputs": [
    {
     "data": {
      "image/png": "[encoded data removed]",
      "text/plain": [
       "<Figure size 864x576 with 1 Axes>"
      ]
     },
     "metadata": {
      "needs_background": "light"
     },
     "output_type": "display_data"
    }
   ],
   "source": [
    "hist_g = h_data.hist(column='AdmissionLengthDays', bins=100, grid=True, figsize=(12,8), color='#86bf91', zorder=2, rwidth=0.9)\n",
    "\n",
    "hist_g = hist_g[0]\n",
    "for x in hist_g:\n",
    "    x.set_xlabel(\"Days\", labelpad=20, weight='bold', size=12)\n",
    "    x.set_ylabel(\"Frequency\", labelpad=20, weight='bold', size=12)"
   ]
  },
  {
   "cell_type": "code",
   "execution_count": 83,
   "metadata": {},
   "outputs": [
    {
     "name": "stdout",
     "output_type": "stream",
     "text": [
      "The regular histogram for admission length days illustrates a skewed right distribution (possibly low standard deviation). While the log admission length days shows a skewed right distribution too, but with a more apparent shape and proper scale along the y axis.\n"
     ]
    },
    {
     "data": {
      "image/png": "[encoded data removed]",
      "text/plain": [
       "<Figure size 864x576 with 1 Axes>"
      ]
     },
     "metadata": {
      "needs_background": "light"
     },
     "output_type": "display_data"
    }
   ],
   "source": [
    "Log = h_data.hist(column='AdmissionLengthDays', bins=100, grid=True, figsize=(12,8), color='#86bf91', zorder=2, rwidth=0.9)\n",
    "\n",
    "Log = Log[0]\n",
    "for x in Log:\n",
    "    x.set_xlabel(\"log(Days)\", labelpad=20, weight='bold', size=12)\n",
    "    x.set_ylabel(\"Frequency\", labelpad=20, weight='bold', size=12)\n",
    "    x.set_yscale('log')\n",
    "    \n",
    "print(\"The regular histogram for admission length days illustrates a skewed right distribution (possibly low standard deviation). While the log admission length days shows a skewed right distribution too, but with a more apparent shape and proper scale along the y axis.\")"
   ]
  },
  {
   "cell_type": "code",
   "execution_count": 63,
   "metadata": {},
   "outputs": [
    {
     "data": {
      "text/plain": [
       "<matplotlib.axes._subplots.AxesSubplot at 0x1a2129cdd0>"
      ]
     },
     "execution_count": 63,
     "metadata": {},
     "output_type": "execute_result"
    },
    {
     "data": {
      "image/png": "[encoded data removed]",
      "text/plain": [
       "<Figure size 432x288 with 1 Axes>"
      ]
     },
     "metadata": {
      "needs_background": "light"
     },
     "output_type": "display_data"
    }
   ],
   "source": [
    "days_hospital = h_data.groupby(\"Death_1\")\n",
    "days_hospital[\"AdmissionLengthDays\"].mean().plot(kind = 'bar')"
   ]
  },
  {
   "cell_type": "code",
   "execution_count": 55,
   "metadata": {},
   "outputs": [
    {
     "data": {
      "text/plain": [
       "Death_1\n",
       "0    [private, medicare, government, medicaid, self...\n",
       "1    [medicare, medicaid, private, government, self...\n",
       "Name: Insurance_Type, dtype: object"
      ]
     },
     "execution_count": 55,
     "metadata": {},
     "output_type": "execute_result"
    }
   ],
   "source": [
    "insurance_type = h_data.groupby(\"Death_1\")\n",
    "insurance_type[\"Insurance_Type\"].unique()"
   ]
  },
  {
   "cell_type": "code",
   "execution_count": null,
   "metadata": {},
   "outputs": [],
   "source": []
  }
 ],
 "metadata": {
  "kernelspec": {
   "display_name": "Python 3",
   "language": "python",
   "name": "python3"
  },
  "language_info": {
   "codemirror_mode": {
    "name": "ipython",
    "version": 3
   },
   "file_extension": ".py",
   "mimetype": "text/x-python",
   "name": "python",
   "nbconvert_exporter": "python",
   "pygments_lexer": "ipython3",
   "version": "3.7.4"
  }
 },
 "nbformat": 4,
 "nbformat_minor": 2
}
